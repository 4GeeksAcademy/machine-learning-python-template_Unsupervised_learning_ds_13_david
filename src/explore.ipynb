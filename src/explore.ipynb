{
    "cells": [
        {
            "cell_type": "markdown",
            "metadata": {},
            "source": [
                "# **Sistema de agrupación de casas con modelo no supervisado**"
            ]
        },
        {
            "cell_type": "markdown",
            "metadata": {},
            "source": [
                "**OBJETIVO: ser capaces de clasificar casas según su la región en la que se encuentren y del ingreso medio.**"
            ]
        },
        {
            "cell_type": "code",
            "execution_count": 2,
            "metadata": {},
            "outputs": [],
            "source": [
                "# Librería necesarias\n",
                "\n",
                "# Biblioteca para manipulación e implementación de datos:\n",
                "import pandas as pd\n",
                "\n",
                "# Función para dividir un conjunto de datos en dos subconjuntos (entrenamiento y prueba)\n",
                "from sklearn.model_selection import train_test_split"
            ]
        }
    ],
    "metadata": {
        "kernelspec": {
            "display_name": "Python 3",
            "language": "python",
            "name": "python3"
        },
        "language_info": {
            "codemirror_mode": {
                "name": "ipython",
                "version": 3
            },
            "file_extension": ".py",
            "mimetype": "text/x-python",
            "name": "python",
            "nbconvert_exporter": "python",
            "pygments_lexer": "ipython3",
            "version": "3.10.12"
        },
        "orig_nbformat": 4
    },
    "nbformat": 4,
    "nbformat_minor": 2
}
